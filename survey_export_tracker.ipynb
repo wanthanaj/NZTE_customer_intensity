{
 "metadata": {
  "language_info": {
   "codemirror_mode": {
    "name": "ipython",
    "version": 3
   },
   "file_extension": ".py",
   "mimetype": "text/x-python",
   "name": "python",
   "nbconvert_exporter": "python",
   "pygments_lexer": "ipython3",
   "version": "3.7.9-final"
  },
  "orig_nbformat": 2,
  "kernelspec": {
   "name": "python3",
   "display_name": "Python 3.7.9 64-bit ('focus-env': conda)",
   "metadata": {
    "interpreter": {
     "hash": "9c88610c020f067345eed6c5803e257073d568c1753dd84db6ac6554f446446f"
    }
   }
  }
 },
 "nbformat": 4,
 "nbformat_minor": 2,
 "cells": [
  {
   "cell_type": "code",
   "execution_count": 1,
   "metadata": {},
   "outputs": [
    {
     "output_type": "execute_result",
     "data": {
      "text/plain": [
       "'C:\\\\Users\\\\wanthana.j.app\\\\OneDrive - New Zealand Trade and Enterprise\\\\src\\\\customer-intensity'"
      ]
     },
     "metadata": {},
     "execution_count": 1
    }
   ],
   "source": [
    "import os\n",
    "path=\"C://Users//wanthana.j.app//OneDrive - New Zealand Trade and Enterprise//src//customer-intensity//\"\n",
    "os.chdir(path)\n",
    "os.getcwd()"
   ]
  },
  {
   "cell_type": "code",
   "execution_count": 2,
   "metadata": {},
   "outputs": [],
   "source": [
    "import pyodbc as pyodbc\n",
    "import pandas as pd\n",
    "import seaborn as sns\n",
    "import matplotlib.pyplot as plt\n",
    "pd.set_option('float_format', '{:.0f}'.format)\n",
    "# Folder that hold outputs\n",
    "outDir  = 'data//'\n",
    "\n",
    "#connections\n",
    "server = 'tcp:ausse-nzte-sqlrepp1.database.windows.net'\n",
    "database = 'prdCRMReport'\n",
    "driver = '{ODBC Driver 17 for SQL Server}'\n",
    "username = 'prdCRMReport_Admin_Read'\n",
    "password = '?ZvEHun3PE$E793G'"
   ]
  },
  {
   "cell_type": "code",
   "execution_count": 3,
   "metadata": {},
   "outputs": [
    {
     "output_type": "execute_result",
     "data": {
      "text/plain": [
       "(8918, 24)"
      ]
     },
     "metadata": {},
     "execution_count": 3
    }
   ],
   "source": [
    "#set up db connection\n",
    "cnxn = pyodbc.connect('DRIVER=' + driver +';SERVER='+server+';DATABASE='+database+';UID='+username+';PWD='+ password)\n",
    "\n",
    "####################################################################################\n",
    "#Prepare investor profiles #\n",
    " \n",
    "#Extract Investor list\n",
    "## read from database\n",
    "with open('scripts//ect_master.sql', 'r') as sql_file:\n",
    "        ect_master= pd.read_sql(sql_file.read(), cnxn)\n",
    "\n",
    "ect_master.shape"
   ]
  },
  {
   "cell_type": "code",
   "execution_count": 4,
   "metadata": {},
   "outputs": [
    {
     "output_type": "execute_result",
     "data": {
      "text/plain": [
       "(2962, 24)"
      ]
     },
     "metadata": {},
     "execution_count": 4
    }
   ],
   "source": [
    "ect_master_FY21 = ect_master.query(\"Fiscal_Year == 2021\")\n",
    "ect_master_FY21.shape"
   ]
  },
  {
   "cell_type": "code",
   "execution_count": 55,
   "metadata": {},
   "outputs": [
    {
     "output_type": "execute_result",
     "data": {
      "text/plain": [
       "(1860, 21)"
      ]
     },
     "metadata": {},
     "execution_count": 55
    }
   ],
   "source": [
    "#NPS_FY21 both q1 and q3 - contains al respondents for both q1 and q3\n",
    "nps_q1q3_fy21    = pd.read_excel('C://Users//wanthana.j.app//OneDrive - New Zealand Trade and Enterprise//Survey//Wave2_FY21//21-03-08 FY21_w2_data.xlsx',\n",
    "                        sheet_name='FY21_q1_q3_w1w2(src)')\n",
    "# nps_q3_fy21.dropna(axis = 0, how =\"all\", inplace = True)\n",
    "nps_q1q3_fy21.shape"
   ]
  },
  {
   "cell_type": "code",
   "execution_count": 64,
   "metadata": {},
   "outputs": [
    {
     "output_type": "stream",
     "name": "stdout",
     "text": [
      "q1:  (794, 21)\nq3:  (1066, 21)\n(2962, 28)\n"
     ]
    },
    {
     "output_type": "execute_result",
     "data": {
      "text/plain": [
       "Index(['wave', 'Fiscal_Year', 'Organisation_key', 'Organisation_Name',\n",
       "       'Contact_Key', 'Contact_Name', 'Contact_Email', 'Contact_Type',\n",
       "       'Segment', 'Sector', 'IR_Range', 'Customer_Manager',\n",
       "       'Customer_Director', 'Target_Market_Name', 'Market_Region', 'BDM', 'TC',\n",
       "       'Market_Stage', 'TM_start_Date', 'customer_Shared_Contact',\n",
       "       'Coalition_Ind', 'Focus_Group', 'Is_One_Week_Response',\n",
       "       'Is_Duplicate_Invite', 'Responses', 'NPS (Q1)', '# NPS Raw Score',\n",
       "       'Survey Tracker Answer Response'],\n",
       "      dtype='object')"
      ]
     },
     "metadata": {},
     "execution_count": 64
    }
   ],
   "source": [
    "#question 1\n",
    "nps_q1_fy21 = nps_q1q3_fy21.query(\"`NPS (Q1)`.notnull()\")\n",
    "print(\"q1: \" , str(nps_q1_fy21.shape))\n",
    "#question 3\n",
    "nps_q3_fy21 = nps_q1q3_fy21.query(\"`NPS (Q3)`.notnull()\")\n",
    "print(\"q3: \" , str(nps_q3_fy21.shape))\n",
    "\n",
    "nps_q1_fy21 =pd.DataFrame(\n",
    "                nps_q1_fy21[[\"Responses\",\"NPS (Q1)\", \"# NPS Raw Score\", \"Survey Tracker Answer Respondent Name\"\n",
    "                            , \"Survey Tracker Answer Response\", \"Wave.Year\"]]\n",
    "                .rename(columns= {'Survey Tracker Answer Respondent Name': \"Contact_Name\"})\n",
    "                .fillna('')\n",
    "                )\n",
    "nps_q1_fy21[\"wave\"] = pd.to_numeric(nps_q1_fy21[\"Wave.Year\"].str[5:7])\n",
    "nps_q1_fy21[\"Fiscal_Year\"] = pd.to_numeric(nps_q1_fy21[\"Wave.Year\"].str[-4:])\n",
    "\n",
    "\n",
    "nps_q3_fy21 =pd.DataFrame(\n",
    "                nps_q3_fy21[[\"Responses\",\"NPS (Q3)\", \"# NPS Raw Score\", \"Target Market\", \"Survey Tracker Answer Respondent Name\"\n",
    "                            , \"Survey Tracker Answer Response\", \"Wave.Year\"]]\n",
    "                .rename(columns= {'Survey Tracker Answer Respondent Name': \"Contact_Name\"\n",
    "                                , 'Target Market': \"Target_Market_Name\"})\n",
    "                .fillna('')\n",
    "                )\n",
    "nps_q3_fy21[\"wave\"] = pd.to_numeric(nps_q3_fy21[\"Wave.Year\"].str[5:7])\n",
    "nps_q3_fy21[\"Fiscal_Year\"] = pd.to_numeric(nps_q3_fy21[\"Wave.Year\"].str[-4:])\n",
    "\n",
    "# join master file with q1 to identify who responded or not\n",
    "all_invited_w_nps = (ect_master_FY21.merge(nps_q1_fy21, how = \"left\", on = [\"Contact_Name\", \"wave\", \"Fiscal_Year\"])\n",
    "                        .fillna('')                        \n",
    "                        .drop([\"Wave.Year\"], axis = 'columns')\n",
    "                    )\n",
    "# all_invited_w_nps = (all_invited_w_nps.merge(nps_q3_fy21, how = \"left\", on = [\"Contact_Name\", \"wave\", \"Target_Market_Name\", \"Fiscal_Year\"])\n",
    "#                         .fillna('')                        \n",
    "#                         .drop([\"Wave.Year\"], axis = 'columns')\n",
    "#                     )\n",
    "print(all_invited_w_nps.shape)\n",
    "\n",
    "\n",
    "outfilePath = \"data//survey//fy21_all_invited_w_nps_20210310.xlsx\"\n",
    "(all_invited_w_nps.replace('\\n',' ', regex=True)\n",
    "    .to_excel(outfilePath,  index = False, header = True , encoding = \"utf-8\")\n",
    ")\n",
    "all_invited_w_nps.columns"
   ]
  },
  {
   "cell_type": "code",
   "execution_count": 19,
   "metadata": {},
   "outputs": [
    {
     "output_type": "stream",
     "name": "stdout",
     "text": [
      "(2962, 118)\n"
     ]
    }
   ],
   "source": [
    "#save output to file\n",
    "exported_date = '20210302' #date of the latest snapshot\n",
    "\n",
    "df_compared = pd.read_csv('data/cluster20210302.csv')\n",
    "df_compared.shape\n",
    "\n",
    "#add intensity level to the master file (including NPS q1) \n",
    "all_invited_w_nps = all_invited_w_nps.rename(columns={\"Organisation_Name\": 'Organisation Legal Name_'})\n",
    "nps_and_egm =  pd.merge(all_invited_w_nps, df_compared, how = \"left\", on = \"Organisation Legal Name_\")\n",
    "print(nps_and_egm.shape)\n",
    "\n",
    "#save output to file\n",
    "outfilePath = outDir + \"survey/w_nps_egm\" + exported_date + \".csv\"\n",
    "(nps_and_egm.replace('\\n',' ', regex=True)\n",
    "    .to_csv(outfilePath, sep = \",\",  index = False, header = True , encoding = \"utf-8\", line_terminator='\\n')\n",
    ")\n"
   ]
  },
  {
   "cell_type": "code",
   "execution_count": 50,
   "metadata": {},
   "outputs": [
    {
     "output_type": "execute_result",
     "data": {
      "text/plain": [
       "0      1 \n",
       "1        \n",
       "2      1 \n",
       "3        \n",
       "4      1 \n",
       "       ..\n",
       "1674   1 \n",
       "1675     \n",
       "1676   1 \n",
       "1677   1 \n",
       "1678     \n",
       "Name: Responses, Length: 1530, dtype: object"
      ]
     },
     "metadata": {},
     "execution_count": 50
    }
   ],
   "source": [
    "# nps_egm = nps_egm.query(\"wave == 1\")\n",
    "cust_egm_chng = nps_and_egm.groupby(by = [\"Focus_Group\",\"Organisation Legal Name_\", \"Responses\"])[\"cluster_prev\", \"cluster_aftr\"].max().reset_index()\n",
    "\n",
    "#map engagement intensity level\n",
    "egm_mapping = {0:\"Low\", 1:'Medium', 2: 'High'}\n",
    "\n",
    "cust_egm_chng['cluster_prev'] = cust_egm_chng['cluster_prev'].map(egm_mapping)\n",
    "cust_egm_chng['cluster_aftr'] = cust_egm_chng['cluster_aftr'].map(egm_mapping)\n",
    "\n",
    "#filter only customers that existing in both snapshots\n",
    "cust_egm = cust_egm_chng.query(\"cluster_prev == cluster_prev & cluster_aftr == cluster_aftr\")\n"
   ]
  },
  {
   "cell_type": "code",
   "execution_count": 85,
   "metadata": {},
   "outputs": [
    {
     "output_type": "stream",
     "name": "stdout",
     "text": [
      "No. of customers responded (by Focus Group): \nFocus_Group\nEstablished Focus    329\nNew Focus            243\nName: Organisation Legal Name_, dtype: int64\n==========================================\n          Focus_Group cluster_prev cluster_aftr  Organisation Legal Name_\n0   Established Focus         High         High                       210\n1   Established Focus         High       Medium                        31\n2   Established Focus          Low          Low                         8\n3   Established Focus          Low       Medium                         7\n4   Established Focus       Medium         High                        29\n5   Established Focus       Medium          Low                         7\n6   Established Focus       Medium       Medium                        37\n7           New Focus         High         High                        20\n8           New Focus         High       Medium                         2\n9           New Focus          Low         High                        17\n10          New Focus          Low          Low                        42\n11          New Focus          Low       Medium                        61\n12          New Focus       Medium         High                        31\n13          New Focus       Medium          Low                        14\n14          New Focus       Medium       Medium                        56\n          Focus_Group cluster_prev cluster_aftr  Organisation Legal Name_\n0   Established Focus         High         High                       210\n1   Established Focus         High       Medium                        31\n2   Established Focus          Low          Low                         8\n3   Established Focus          Low       Medium                         7\n4   Established Focus       Medium         High                        29\n5   Established Focus       Medium          Low                         7\n6   Established Focus       Medium       Medium                        37\n7           New Focus         High         High                        20\n8           New Focus         High       Medium                         2\n9           New Focus          Low         High                        17\n10          New Focus          Low          Low                        42\n11          New Focus          Low       Medium                        61\n12          New Focus       Medium         High                        31\n13          New Focus       Medium          Low                        14\n14          New Focus       Medium       Medium                        56\n"
     ]
    }
   ],
   "source": [
    "#of those customers who responded, we want to see what their engagments look like\n",
    "df = pd.DataFrame(cust_egm.query(\"Responses == 1\"))\n",
    "print(\"No. of customers responded (by Focus Group): \")\n",
    "print(df.groupby(by = [\"Focus_Group\"])[\"Organisation Legal Name_\"].nunique())\n",
    "\n",
    "print(\"==========================================\")\n",
    "egm_chng  = df.pivot_table(index = [\"Focus_Group\",\"cluster_prev\",\"cluster_aftr\"], values = \"Organisation Legal Name_\",  aggfunc= \"count\" ).reset_index()\n",
    "print(egm_chng)\n",
    "#egm_chng = egm_chng.pivot(index = [\"Focus_Group\",\"cluster_prev\"], values =\"Organisation Legal Name_\", columns = \"cluster_aftr\").reset_index()\n",
    "\n",
    "print(egm_chng)\n",
    "# (egm_chng.replace('\\n',' ', regex=True)\n",
    "#     .to_excel(\"data//survey//egm_chng_FY21.xlsx\",  index = False, header = True , encoding = \"utf-8\")\n",
    "# )\n"
   ]
  },
  {
   "cell_type": "code",
   "execution_count": 112,
   "metadata": {},
   "outputs": [],
   "source": [
    "df_egm_before = (\n",
    "                    df.groupby(by= [\"Focus_Group\", \"cluster_prev\"])[\"Organisation Legal Name_\"].nunique().reset_index()\n",
    "                    .pivot(index = \"Focus_Group\", columns= \"cluster_prev\", values = \"Organisation Legal Name_\" ).reset_index()\n",
    "                    .assign(cluster = \"prev\")\n",
    ")\n",
    "df_egm_aftr= (\n",
    "                    df.groupby(by= [\"Focus_Group\", \"cluster_aftr\"])[\"Organisation Legal Name_\"].nunique().reset_index()\n",
    "                    .pivot(index = \"Focus_Group\", columns= \"cluster_aftr\", values = \"Organisation Legal Name_\" ).reset_index() \n",
    "                    .assign(cluster = \"aftr\")\n",
    ")\n",
    "df_egm_change = pd.concat([df_egm_before,df_egm_aftr])\n",
    "(df_egm_change.replace('\\n',' ', regex=True)\n",
    "    .to_excel(\"data//survey//egm_chng_FY21.xlsx\",  index = False, header = True , encoding = \"utf-8\")\n",
    ")"
   ]
  },
  {
   "source": [
    "Comparing  FY20 (wave3) and FY21 (wave1+2)"
   ],
   "cell_type": "markdown",
   "metadata": {}
  },
  {
   "cell_type": "code",
   "execution_count": 123,
   "metadata": {},
   "outputs": [
    {
     "output_type": "stream",
     "name": "stdout",
     "text": [
      "(3624, 19)\n"
     ]
    }
   ],
   "source": [
    "#NPS_FY21 both q1 and q3 - contains al respondents for both q1 and q3\n",
    "nps_q1q3_fy20    = pd.read_excel('C://Users//wanthana.j.app//OneDrive - New Zealand Trade and Enterprise//Survey//Wave2_FY21//21-03-08 FY21_w2_data.xlsx',\n",
    "                        sheet_name='FY20_Q1_Q3_AllWaves(src)')\n",
    "\n",
    "print(nps_q1q3_fy20.shape)\n",
    "\n",
    "\n"
   ]
  },
  {
   "cell_type": "code",
   "execution_count": 137,
   "metadata": {},
   "outputs": [
    {
     "output_type": "stream",
     "name": "stdout",
     "text": [
      "(747, 19)\n"
     ]
    },
    {
     "output_type": "execute_result",
     "data": {
      "text/plain": [
       "      Responses  NPS (Q1)  # NPS Raw Score     Contact_Name  \\\n",
       "0             2       100              200     Stephen Pool   \n",
       "2             1       100              100   Matthew Gellin   \n",
       "3             1       100              100     Mike Beagley   \n",
       "4             1       100              100    Pip Llewellyn   \n",
       "5             1       100              100       Shane Topp   \n",
       "...         ...       ...              ...              ...   \n",
       "3328          1      -100             -100  Stephen Plowman   \n",
       "3329          1      -100             -100    Steve Donovan   \n",
       "3330          1      -100             -100     Theo Baynton   \n",
       "3333          1      -100             -100      Tony Milich   \n",
       "3334          1      -100             -100  warwick russell   \n",
       "\n",
       "      Survey Tracker Answer Response      Wave.Year nps_category  \n",
       "0                                 10  wave 3 - 2020     Promoter  \n",
       "2                                 10  wave 3 - 2020     Promoter  \n",
       "3                                 10  wave 3 - 2020     Promoter  \n",
       "4                                 10  wave 3 - 2020     Promoter  \n",
       "5                                  9  wave 3 - 2020     Promoter  \n",
       "...                              ...            ...          ...  \n",
       "3328                               5  wave 3 - 2020    Detractor  \n",
       "3329                               3  wave 3 - 2020    Detractor  \n",
       "3330                               1  wave 3 - 2020    Detractor  \n",
       "3333                               6  wave 3 - 2020    Detractor  \n",
       "3334                               6  wave 3 - 2020    Detractor  \n",
       "\n",
       "[747 rows x 7 columns]"
      ],
      "text/html": "<div>\n<style scoped>\n    .dataframe tbody tr th:only-of-type {\n        vertical-align: middle;\n    }\n\n    .dataframe tbody tr th {\n        vertical-align: top;\n    }\n\n    .dataframe thead th {\n        text-align: right;\n    }\n</style>\n<table border=\"1\" class=\"dataframe\">\n  <thead>\n    <tr style=\"text-align: right;\">\n      <th></th>\n      <th>Responses</th>\n      <th>NPS (Q1)</th>\n      <th># NPS Raw Score</th>\n      <th>Contact_Name</th>\n      <th>Survey Tracker Answer Response</th>\n      <th>Wave.Year</th>\n      <th>nps_category</th>\n    </tr>\n  </thead>\n  <tbody>\n    <tr>\n      <th>0</th>\n      <td>2</td>\n      <td>100</td>\n      <td>200</td>\n      <td>Stephen Pool</td>\n      <td>10</td>\n      <td>wave 3 - 2020</td>\n      <td>Promoter</td>\n    </tr>\n    <tr>\n      <th>2</th>\n      <td>1</td>\n      <td>100</td>\n      <td>100</td>\n      <td>Matthew Gellin</td>\n      <td>10</td>\n      <td>wave 3 - 2020</td>\n      <td>Promoter</td>\n    </tr>\n    <tr>\n      <th>3</th>\n      <td>1</td>\n      <td>100</td>\n      <td>100</td>\n      <td>Mike Beagley</td>\n      <td>10</td>\n      <td>wave 3 - 2020</td>\n      <td>Promoter</td>\n    </tr>\n    <tr>\n      <th>4</th>\n      <td>1</td>\n      <td>100</td>\n      <td>100</td>\n      <td>Pip Llewellyn</td>\n      <td>10</td>\n      <td>wave 3 - 2020</td>\n      <td>Promoter</td>\n    </tr>\n    <tr>\n      <th>5</th>\n      <td>1</td>\n      <td>100</td>\n      <td>100</td>\n      <td>Shane Topp</td>\n      <td>9</td>\n      <td>wave 3 - 2020</td>\n      <td>Promoter</td>\n    </tr>\n    <tr>\n      <th>...</th>\n      <td>...</td>\n      <td>...</td>\n      <td>...</td>\n      <td>...</td>\n      <td>...</td>\n      <td>...</td>\n      <td>...</td>\n    </tr>\n    <tr>\n      <th>3328</th>\n      <td>1</td>\n      <td>-100</td>\n      <td>-100</td>\n      <td>Stephen Plowman</td>\n      <td>5</td>\n      <td>wave 3 - 2020</td>\n      <td>Detractor</td>\n    </tr>\n    <tr>\n      <th>3329</th>\n      <td>1</td>\n      <td>-100</td>\n      <td>-100</td>\n      <td>Steve Donovan</td>\n      <td>3</td>\n      <td>wave 3 - 2020</td>\n      <td>Detractor</td>\n    </tr>\n    <tr>\n      <th>3330</th>\n      <td>1</td>\n      <td>-100</td>\n      <td>-100</td>\n      <td>Theo Baynton</td>\n      <td>1</td>\n      <td>wave 3 - 2020</td>\n      <td>Detractor</td>\n    </tr>\n    <tr>\n      <th>3333</th>\n      <td>1</td>\n      <td>-100</td>\n      <td>-100</td>\n      <td>Tony Milich</td>\n      <td>6</td>\n      <td>wave 3 - 2020</td>\n      <td>Detractor</td>\n    </tr>\n    <tr>\n      <th>3334</th>\n      <td>1</td>\n      <td>-100</td>\n      <td>-100</td>\n      <td>warwick russell</td>\n      <td>6</td>\n      <td>wave 3 - 2020</td>\n      <td>Detractor</td>\n    </tr>\n  </tbody>\n</table>\n<p>747 rows × 7 columns</p>\n</div>"
     },
     "metadata": {},
     "execution_count": 137
    }
   ],
   "source": [
    "\n",
    "#map engagement intensity level\n",
    "nps_mapping = {0:\"Passive\", -100:'Detractor', 100: 'Promoter'}\n",
    "\n",
    "\n",
    "nps_q1_fy20 = nps_q1q3_fy20.query(\"`Wave.Year` == 'wave 3 - 2020' & `NPS (Q1)`.notnull()\")\n",
    "print(nps_q1_fy20.shape)\n",
    "\n",
    "nps_q1_fy20 =pd.DataFrame(\n",
    "                nps_q1_fy20[[\"Responses\",\"NPS (Q1)\", \"# NPS Raw Score\", \"Survey Tracker Answer Respondent Name\"\n",
    "                            , \"Survey Tracker Answer Response\", \"Wave.Year\"]]\n",
    "                .rename(columns= {'Survey Tracker Answer Respondent Name': \"Contact_Name\"})\n",
    "                .fillna('')\n",
    "                )\n",
    "\n",
    "nps_q1_fy20['nps_category'] = nps_q1_fy20['NPS (Q1)'].map(nps_mapping)\n",
    "nps_q1_fy20                "
   ]
  },
  {
   "cell_type": "code",
   "execution_count": 184,
   "metadata": {},
   "outputs": [],
   "source": [
    "nps_q1_fy21['nps_category'] = nps_q1_fy21['NPS (Q1)'].map(nps_mapping)\n",
    "\n",
    "nps_before = pd.DataFrame(nps_q1_fy20[[\"Contact_Name\", \"Wave.Year\", \"nps_category\"]])\n",
    "nps_after = pd.DataFrame(nps_q1_fy21[[\"Contact_Name\", \"Wave.Year\", \"nps_category\"]])\n",
    "\n",
    "\n",
    "nps_chng =  pd.merge( nps_before, nps_after, how = \"inner\", on = \"Contact_Name\")\n",
    "\n",
    "#for those contacts who've got double invited, we pick the latest one \n",
    "df_chng = nps_chng.sort_values([\"Contact_Name\",\"Wave.Year_x\", \"Wave.Year_y\"], ascending= True)\n",
    "df_chng[\"wave_index\"] = df_chng.groupby([\"Contact_Name\",\"Wave.Year_x\"])[\"Wave.Year_y\"].transform('max')\n",
    "df_chng = df_chng.query(\"`Wave.Year_y` == wave_index\").drop(\"wave_index\", axis = 1)\n",
    "\n",
    "#save to file\n",
    "df_chng.to_excel(\"data//survey//nps_chng_FY21.xlsx\",  index = False, header = True , encoding = \"utf-8\")\n"
   ]
  },
  {
   "cell_type": "code",
   "execution_count": 197,
   "metadata": {},
   "outputs": [
    {
     "output_type": "execute_result",
     "data": {
      "text/plain": [
       "nps_category_y  Detractor  Passive  Promoter\n",
       "nps_category_x                              \n",
       "Detractor               4        5         2\n",
       "Passive                 1       42        54\n",
       "Promoter              nan       24       209"
      ],
      "text/html": "<div>\n<style scoped>\n    .dataframe tbody tr th:only-of-type {\n        vertical-align: middle;\n    }\n\n    .dataframe tbody tr th {\n        vertical-align: top;\n    }\n\n    .dataframe thead th {\n        text-align: right;\n    }\n</style>\n<table border=\"1\" class=\"dataframe\">\n  <thead>\n    <tr style=\"text-align: right;\">\n      <th>nps_category_y</th>\n      <th>Detractor</th>\n      <th>Passive</th>\n      <th>Promoter</th>\n    </tr>\n    <tr>\n      <th>nps_category_x</th>\n      <th></th>\n      <th></th>\n      <th></th>\n    </tr>\n  </thead>\n  <tbody>\n    <tr>\n      <th>Detractor</th>\n      <td>4</td>\n      <td>5</td>\n      <td>2</td>\n    </tr>\n    <tr>\n      <th>Passive</th>\n      <td>1</td>\n      <td>42</td>\n      <td>54</td>\n    </tr>\n    <tr>\n      <th>Promoter</th>\n      <td>nan</td>\n      <td>24</td>\n      <td>209</td>\n    </tr>\n  </tbody>\n</table>\n</div>"
     },
     "metadata": {},
     "execution_count": 197
    }
   ],
   "source": [
    "(df_chng.groupby([\"nps_category_x\", \"nps_category_y\"])[\"Contact_Name\"].agg(contact_count ='count')\n",
    ".reset_index()\n",
    ".pivot(index = \"nps_category_x\", columns = \"nps_category_y\", values = \"contact_count\")\n",
    ")"
   ]
  },
  {
   "cell_type": "code",
   "execution_count": null,
   "metadata": {},
   "outputs": [],
   "source": []
  }
 ]
}